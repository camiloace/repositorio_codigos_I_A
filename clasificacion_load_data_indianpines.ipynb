{
  "nbformat": 4,
  "nbformat_minor": 0,
  "metadata": {
    "colab": {
      "name": "Copia de load_data_indianpines.ipynb",
      "provenance": [],
      "collapsed_sections": []
    },
    "kernelspec": {
      "name": "python3",
      "display_name": "Python 3"
    },
    "language_info": {
      "name": "python"
    }
  },
  "cells": [
    {
      "cell_type": "code",
      "execution_count": null,
      "metadata": {
        "colab": {
          "base_uri": "https://localhost:8080/"
        },
        "id": "5WXpMU9O9p8m",
        "outputId": "744bd871-8200-4c84-e669-27a2268863ac"
      },
      "outputs": [
        {
          "output_type": "stream",
          "name": "stdout",
          "text": [
            "/content/drive/MyDrive/maestria/remote_sensing\n"
          ]
        }
      ],
      "source": [
        "cd '/content/drive/MyDrive/maestria/remote_sensing'"
      ]
    },
    {
      "cell_type": "code",
      "source": [
        "from google.colab import drive\n",
        "drive.mount('/content/drive')"
      ],
      "metadata": {
        "colab": {
          "base_uri": "https://localhost:8080/"
        },
        "id": "wprre38pw3nA",
        "outputId": "422d1c38-6dec-4af2-94ad-d15ca00b738d"
      },
      "execution_count": null,
      "outputs": [
        {
          "output_type": "stream",
          "name": "stdout",
          "text": [
            "Mounted at /content/drive\n"
          ]
        }
      ]
    },
    {
      "cell_type": "code",
      "source": [
        "import os\n",
        "import scipy.io\n",
        "import numpy as np\n",
        "import pandas as pd"
      ],
      "metadata": {
        "id": "yK5YH-Gz-GJW"
      },
      "execution_count": null,
      "outputs": []
    },
    {
      "cell_type": "code",
      "source": [
        "image_path = 'db_indian_pines/Indian_pines_corrected.mat'\n",
        "gt_path = 'db_indian_pines/Indian_pines_gt.mat'\n",
        "\n",
        "img = scipy.io.loadmat(image_path)\n",
        "img = img['indian_pines_corrected']\n",
        "labels = scipy.io.loadmat(gt_path)\n",
        "labels = labels['indian_pines_gt']\n",
        "#labels = np.reshape(labels,labels.shape[0]*labels.shape[1])"
      ],
      "metadata": {
        "id": "jeCd_IUL-M6K"
      },
      "execution_count": null,
      "outputs": []
    },
    {
      "cell_type": "code",
      "source": [
        "np.shape(labels)\n",
        "labels"
      ],
      "metadata": {
        "colab": {
          "base_uri": "https://localhost:8080/"
        },
        "id": "43MdyV_8yNNP",
        "outputId": "5a8b881b-9543-468b-dce3-b35766d92e31"
      },
      "execution_count": null,
      "outputs": [
        {
          "output_type": "execute_result",
          "data": {
            "text/plain": [
              "array([[3, 3, 3, ..., 0, 0, 0],\n",
              "       [3, 3, 3, ..., 0, 0, 0],\n",
              "       [3, 3, 3, ..., 0, 0, 0],\n",
              "       ...,\n",
              "       [0, 0, 0, ..., 0, 0, 0],\n",
              "       [0, 0, 0, ..., 0, 0, 0],\n",
              "       [0, 0, 0, ..., 0, 0, 0]], dtype=uint8)"
            ]
          },
          "metadata": {},
          "execution_count": 24
        }
      ]
    },
    {
      "cell_type": "code",
      "source": [
        "img_r = np.reshape(img,(img.shape[0]*img.shape[1],img.shape[2]))\n",
        "labels_r = np.reshape(labels,(labels.shape[0]*labels.shape[1]))"
      ],
      "metadata": {
        "id": "XwzjNTch_MfL"
      },
      "execution_count": null,
      "outputs": []
    },
    {
      "cell_type": "code",
      "source": [
        "ind = np.random.randint(0,200,8)\n",
        "img_r = img_r[:,ind]"
      ],
      "metadata": {
        "id": "vNkf5zSmDHFU"
      },
      "execution_count": null,
      "outputs": []
    },
    {
      "cell_type": "code",
      "source": [
        "len(img_r)"
      ],
      "metadata": {
        "colab": {
          "base_uri": "https://localhost:8080/"
        },
        "id": "l-zL4HbAyZTG",
        "outputId": "2fafd563-2c11-42cd-b863-5ee22376d98b"
      },
      "execution_count": null,
      "outputs": [
        {
          "output_type": "execute_result",
          "data": {
            "text/plain": [
              "21025"
            ]
          },
          "metadata": {},
          "execution_count": 18
        }
      ]
    },
    {
      "cell_type": "code",
      "source": [
        "img_r.shape"
      ],
      "metadata": {
        "colab": {
          "base_uri": "https://localhost:8080/"
        },
        "id": "vUNr6-ApDZr9",
        "outputId": "a7d38a14-472c-4dbd-95e1-b680994e0998"
      },
      "execution_count": null,
      "outputs": [
        {
          "output_type": "execute_result",
          "data": {
            "text/plain": [
              "(21025, 8)"
            ]
          },
          "metadata": {},
          "execution_count": 8
        }
      ]
    },
    {
      "cell_type": "code",
      "source": [
        "def extract_pixels(X, y):\n",
        "    q = X.reshape(-1, X.shape[2])\n",
        "    df = pd.DataFrame(data = q)\n",
        "    df = pd.concat([df, pd.DataFrame(data = y.ravel())], axis=1)\n",
        "    df.columns= [f'band{i}' for i in range(1, 1+X.shape[2])]+['class']\n",
        "    #df.to_csv('Dataset.csv')\n",
        "    return df"
      ],
      "metadata": {
        "id": "rrVDsFRUlqDh"
      },
      "execution_count": null,
      "outputs": []
    },
    {
      "cell_type": "code",
      "source": [
        "names = ['Alfalfa','Corn-notill', 'Corn-mintill','Corn','Grass-pasture','Grass-trees',\n",
        "'Grass-pasture-mowed','Hay-windrowed','Oats','Soybean-notill','Soybean-mintill',\n",
        "'Soybean-clean', 'Wheat','Woods','Buildings Grass Trees Drives','Stone Steel Towers'] "
      ],
      "metadata": {
        "id": "vZ0AuNk_lsTI"
      },
      "execution_count": null,
      "outputs": []
    },
    {
      "cell_type": "code",
      "source": [
        "data_indian = extract_pixels(img, labels)\n",
        "#cleaning data\n",
        "data_x = data_indian[data_indian['class'] != 0]\n",
        "img_r = data_x.iloc[:, :-1].values\n",
        "labels_r = data_x.loc[:, 'class'].values"
      ],
      "metadata": {
        "id": "3J-X3Dnkl7xJ"
      },
      "execution_count": null,
      "outputs": []
    },
    {
      "cell_type": "code",
      "source": [
        "from sklearn.model_selection import train_test_split\n",
        "from sklearn.pipeline import Pipeline\n",
        "from sklearn.model_selection import GridSearchCV\n",
        "from sklearn.linear_model import SGDClassifier\n",
        "from sklearn.metrics import accuracy_score\n",
        "from sklearn.preprocessing import StandardScaler\n",
        "from sklearn.preprocessing import MinMaxScaler\n",
        "from sklearn.svm import SVC\n",
        "from sklearn.metrics import confusion_matrix\n",
        "from sklearn.metrics import plot_confusion_matrix"
      ],
      "metadata": {
        "id": "N2QqBnqsDpQ1"
      },
      "execution_count": null,
      "outputs": []
    },
    {
      "cell_type": "code",
      "source": [
        "X_train, X_test, y_train, y_test = train_test_split(img_r, labels_r, test_size=0.2, random_state=42, stratify = labels_r)\n",
        "print('Class label counts train:', np.bincount(y_train))\n",
        "print('Class label counts test:', np.bincount(y_test))"
      ],
      "metadata": {
        "colab": {
          "base_uri": "https://localhost:8080/"
        },
        "id": "gUN6pfzwDgDJ",
        "outputId": "44efc67c-853b-4daf-921e-ddf6e034557f"
      },
      "execution_count": null,
      "outputs": [
        {
          "output_type": "stream",
          "name": "stdout",
          "text": [
            "Class label counts train: [   0   37 1142  664  190  386  584   23  382   16  778 1964  474  164\n",
            " 1012  309   74]\n",
            "Class label counts test: [  0   9 286 166  47  97 146   5  96   4 194 491 119  41 253  77  19]\n"
          ]
        }
      ]
    },
    {
      "cell_type": "code",
      "source": [
        "steps = [('scaler',MinMaxScaler()),('classifier',SGDClassifier(max_iter=1000, tol=1e-3))]\n",
        "pipe = Pipeline(steps)\n",
        "param_grid = dict(classifier__alpha = [0.01,0.1,1,10,100])\n",
        "\n",
        "grid_search = GridSearchCV(pipe, param_grid=param_grid)\n",
        "grid_search.fit(X_train,y_train)"
      ],
      "metadata": {
        "colab": {
          "base_uri": "https://localhost:8080/"
        },
        "id": "7yz3z8EDEUur",
        "outputId": "e81a0ff6-9ea5-4ccf-ed7b-6c3b7a53a38d"
      },
      "execution_count": null,
      "outputs": [
        {
          "output_type": "execute_result",
          "data": {
            "text/plain": [
              "GridSearchCV(estimator=Pipeline(steps=[('scaler', MinMaxScaler()),\n",
              "                                       ('classifier', SGDClassifier())]),\n",
              "             param_grid={'classifier__alpha': [0.01, 0.1, 1, 10, 100]})"
            ]
          },
          "metadata": {},
          "execution_count": 43
        }
      ]
    },
    {
      "cell_type": "code",
      "source": [
        "grid_search.best_params_['classifier__alpha']"
      ],
      "metadata": {
        "colab": {
          "base_uri": "https://localhost:8080/"
        },
        "id": "Uxnns2CTEgUu",
        "outputId": "e6043df7-8b9e-4914-d5d5-d1dd4c338d6e"
      },
      "execution_count": null,
      "outputs": [
        {
          "output_type": "execute_result",
          "data": {
            "text/plain": [
              "0.01"
            ]
          },
          "metadata": {},
          "execution_count": 38
        }
      ]
    },
    {
      "cell_type": "code",
      "source": [
        "pipe.set_params(classifier__alpha = grid_search.best_params_['classifier__alpha'])"
      ],
      "metadata": {
        "colab": {
          "base_uri": "https://localhost:8080/"
        },
        "id": "fW-spD5cEjEP",
        "outputId": "328a94c9-d4b1-4f77-d6a9-261dbc3f475e"
      },
      "execution_count": null,
      "outputs": [
        {
          "output_type": "execute_result",
          "data": {
            "text/plain": [
              "Pipeline(steps=[('scaler', MinMaxScaler()),\n",
              "                ('classifier', SGDClassifier(alpha=0.01))])"
            ]
          },
          "metadata": {},
          "execution_count": 44
        }
      ]
    },
    {
      "cell_type": "code",
      "source": [
        "pipe.fit(X_train,y_train)"
      ],
      "metadata": {
        "colab": {
          "base_uri": "https://localhost:8080/"
        },
        "id": "K9Wg9rH5Em1C",
        "outputId": "1f0736f9-2ddc-47a0-f70f-e311d490f36b"
      },
      "execution_count": null,
      "outputs": [
        {
          "output_type": "execute_result",
          "data": {
            "text/plain": [
              "Pipeline(steps=[('scaler', MinMaxScaler()),\n",
              "                ('classifier', SGDClassifier(alpha=0.01))])"
            ]
          },
          "metadata": {},
          "execution_count": 45
        }
      ]
    },
    {
      "cell_type": "code",
      "source": [
        "y_est = pipe.predict(X_test)\n",
        "accuracy_score(y_test,y_est)"
      ],
      "metadata": {
        "id": "IjZjwOP4Epse",
        "colab": {
          "base_uri": "https://localhost:8080/"
        },
        "outputId": "0f3b1733-f82c-4497-d956-fd545069ebc7"
      },
      "execution_count": null,
      "outputs": [
        {
          "output_type": "execute_result",
          "data": {
            "text/plain": [
              "0.6063414634146341"
            ]
          },
          "metadata": {},
          "execution_count": 46
        }
      ]
    },
    {
      "cell_type": "code",
      "source": [
        "plot_confusion_matrix(pipe, X_test, y_test) "
      ],
      "metadata": {
        "colab": {
          "base_uri": "https://localhost:8080/",
          "height": 351
        },
        "id": "kUIjZoI7E2Ea",
        "outputId": "09efb3d5-b1be-4043-b0b5-d5837abb37ae"
      },
      "execution_count": null,
      "outputs": [
        {
          "output_type": "stream",
          "name": "stderr",
          "text": [
            "/usr/local/lib/python3.7/dist-packages/sklearn/utils/deprecation.py:87: FutureWarning: Function plot_confusion_matrix is deprecated; Function `plot_confusion_matrix` is deprecated in 1.0 and will be removed in 1.2. Use one of the class methods: ConfusionMatrixDisplay.from_predictions or ConfusionMatrixDisplay.from_estimator.\n",
            "  warnings.warn(msg, category=FutureWarning)\n"
          ]
        },
        {
          "output_type": "execute_result",
          "data": {
            "text/plain": [
              "<sklearn.metrics._plot.confusion_matrix.ConfusionMatrixDisplay at 0x7fc528a9dcd0>"
            ]
          },
          "metadata": {},
          "execution_count": 47
        },
        {
          "output_type": "display_data",
          "data": {
            "text/plain": [
              "<Figure size 432x288 with 2 Axes>"
            ],
            "image/png": "[encoded data removed]"
          },
          "metadata": {
            "needs_background": "light"
          }
        }
      ]
    },
    {
      "cell_type": "code",
      "source": [
        "from sklearn.ensemble import RandomForestClassifier"
      ],
      "metadata": {
        "id": "IfMnW1DmFlOp"
      },
      "execution_count": null,
      "outputs": []
    },
    {
      "cell_type": "code",
      "source": [
        "steps = [('scaler',MinMaxScaler()),('classifier',RandomForestClassifier())]\n",
        "pipe = Pipeline(steps)\n",
        "\n",
        "n_estimators = [5,20,50,100]\n",
        "max_features = ['auto', 'sqrt']\n",
        "max_depth = [int(x) for x in np.linspace(10, 120, num = 12)]\n",
        "min_samples_split = [2, 6, 10]\n",
        "min_samples_leaf = [1, 3, 4]\n",
        "bootstrap = [True, False]\n",
        "\n",
        "param_grid = dict(classifier__n_estimators = n_estimators,\n",
        "                  classifier__max_features = max_features,\n",
        "                  classifier__max_depth = max_depth,\n",
        "                  classifier__min_samples_split = min_samples_split,\n",
        "                  classifier__min_samples_leaf = min_samples_leaf,\n",
        "                  classifier__bootstrap = bootstrap)\n",
        "\n",
        "grid_search = GridSearchCV(pipe, param_grid=param_grid)\n",
        "grid_search.fit(X_train,y_train)"
      ],
      "metadata": {
        "id": "jl4CVIOUFwqM",
        "colab": {
          "base_uri": "https://localhost:8080/"
        },
        "outputId": "bc792c84-a365-4fc7-fe8a-4bf216a745e4"
      },
      "execution_count": null,
      "outputs": [
        {
          "output_type": "stream",
          "name": "stderr",
          "text": [
            "/usr/local/lib/python3.7/dist-packages/sklearn/model_selection/_split.py:680: UserWarning: The least populated class in y has only 4 members, which is less than n_splits=5.\n",
            "  UserWarning,\n"
          ]
        },
        {
          "output_type": "execute_result",
          "data": {
            "text/plain": [
              "GridSearchCV(estimator=Pipeline(steps=[('scaler', MinMaxScaler()),\n",
              "                                       ('classifier',\n",
              "                                        RandomForestClassifier())]),\n",
              "             param_grid={'classifier__bootstrap': [True, False],\n",
              "                         'classifier__max_depth': [10, 20, 30, 40, 50, 60, 70,\n",
              "                                                   80, 90, 100, 110, 120],\n",
              "                         'classifier__max_features': ['auto', 'sqrt'],\n",
              "                         'classifier__min_samples_leaf': [1, 3, 4],\n",
              "                         'classifier__min_samples_split': [2, 6, 10],\n",
              "                         'classifier__n_estimators': [5, 20, 50, 100]})"
            ]
          },
          "metadata": {},
          "execution_count": 28
        }
      ]
    },
    {
      "cell_type": "code",
      "source": [
        "grid_search.best_params_"
      ],
      "metadata": {
        "id": "UdchSU_UF3jE",
        "colab": {
          "base_uri": "https://localhost:8080/"
        },
        "outputId": "ab1ec3ad-df7d-4914-c10a-6b9034eb61fc"
      },
      "execution_count": null,
      "outputs": [
        {
          "output_type": "execute_result",
          "data": {
            "text/plain": [
              "{'classifier__bootstrap': False,\n",
              " 'classifier__max_depth': 50,\n",
              " 'classifier__max_features': 'auto',\n",
              " 'classifier__min_samples_leaf': 1,\n",
              " 'classifier__min_samples_split': 2,\n",
              " 'classifier__n_estimators': 100}"
            ]
          },
          "metadata": {},
          "execution_count": 30
        }
      ]
    },
    {
      "cell_type": "code",
      "source": [
        "pipe.set_params(classifier__n_estimators = grid_search.best_params_['classifier__n_estimators'])\n",
        "pipe.set_params(classifier__max_features = grid_search.best_params_['classifier__max_features'])\n",
        "pipe.set_params(classifier__max_depth = grid_search.best_params_['classifier__max_depth'])\n",
        "pipe.set_params(classifier__min_samples_split = grid_search.best_params_['classifier__min_samples_split'])\n",
        "pipe.set_params(classifier__min_samples_leaf = grid_search.best_params_['classifier__min_samples_leaf'])\n",
        "pipe.set_params(classifier__bootstrap = grid_search.best_params_['classifier__bootstrap'])"
      ],
      "metadata": {
        "id": "3AXR631XF7GN",
        "colab": {
          "base_uri": "https://localhost:8080/"
        },
        "outputId": "fdffd019-d8b2-4d85-8a0e-9cadbca3eeef"
      },
      "execution_count": null,
      "outputs": [
        {
          "output_type": "execute_result",
          "data": {
            "text/plain": [
              "Pipeline(steps=[('scaler', MinMaxScaler()),\n",
              "                ('classifier',\n",
              "                 RandomForestClassifier(bootstrap=False, max_depth=50))])"
            ]
          },
          "metadata": {},
          "execution_count": 31
        }
      ]
    },
    {
      "cell_type": "code",
      "source": [
        "pipe.fit(X_train,y_train)"
      ],
      "metadata": {
        "id": "StNxTRi8F-Kw",
        "colab": {
          "base_uri": "https://localhost:8080/"
        },
        "outputId": "b105d57e-a93a-4f0d-d1a0-223b04a7e05d"
      },
      "execution_count": null,
      "outputs": [
        {
          "output_type": "execute_result",
          "data": {
            "text/plain": [
              "Pipeline(steps=[('scaler', MinMaxScaler()),\n",
              "                ('classifier',\n",
              "                 RandomForestClassifier(bootstrap=False, max_depth=50))])"
            ]
          },
          "metadata": {},
          "execution_count": 32
        }
      ]
    },
    {
      "cell_type": "code",
      "source": [
        "plot_confusion_matrix(pipe, X_test, y_test) \n",
        "#accuracy_score(y_test,y_est)"
      ],
      "metadata": {
        "id": "UhgMhiH_GB2v",
        "colab": {
          "base_uri": "https://localhost:8080/",
          "height": 351
        },
        "outputId": "f59444d8-022d-48a5-bf59-111c233e83f5"
      },
      "execution_count": null,
      "outputs": [
        {
          "output_type": "stream",
          "name": "stderr",
          "text": [
            "/usr/local/lib/python3.7/dist-packages/sklearn/utils/deprecation.py:87: FutureWarning: Function plot_confusion_matrix is deprecated; Function `plot_confusion_matrix` is deprecated in 1.0 and will be removed in 1.2. Use one of the class methods: ConfusionMatrixDisplay.from_predictions or ConfusionMatrixDisplay.from_estimator.\n",
            "  warnings.warn(msg, category=FutureWarning)\n"
          ]
        },
        {
          "output_type": "execute_result",
          "data": {
            "text/plain": [
              "<sklearn.metrics._plot.confusion_matrix.ConfusionMatrixDisplay at 0x7fc528982150>"
            ]
          },
          "metadata": {},
          "execution_count": 34
        },
        {
          "output_type": "display_data",
          "data": {
            "text/plain": [
              "<Figure size 432x288 with 2 Axes>"
            ],
            "image/png": "[encoded data removed]"
          },
          "metadata": {
            "needs_background": "light"
          }
        }
      ]
    },
    {
      "cell_type": "code",
      "source": [
        "y_est = pipe.predict(X_test)\n",
        "accuracy_score(y_test,y_est)"
      ],
      "metadata": {
        "colab": {
          "base_uri": "https://localhost:8080/"
        },
        "id": "UgQsyyysLXwU",
        "outputId": "d6acf445-3f6d-457c-e5e4-70b5e701bf26"
      },
      "execution_count": null,
      "outputs": [
        {
          "output_type": "execute_result",
          "data": {
            "text/plain": [
              "0.8887804878048781"
            ]
          },
          "metadata": {},
          "execution_count": 36
        }
      ]
    }
  ]
}